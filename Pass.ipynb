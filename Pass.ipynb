{
 "cells": [
  {
   "cell_type": "markdown",
   "id": "7ed1c861",
   "metadata": {},
   "source": [
    "### Pass\n",
    "\n",
    "Digunakan jika kita menginginkan sebuah pernyataan atau blok pernyataan (statement), namun tidak melakukan apapun - melanjutkan eksekusi sesuai dengan urutannya.\n",
    "\n",
    "Kontrol ini banyak digunakan saat kita belum melakukan implementasi (atau menyiapkan tempat untuk implementasi), serta membiarkan program tetap berjalan saat misalnya kita mengalami kegagalan atau exception.\n",
    "\n",
    "Pass statement adalah operasi bersifat Null (kosong), tidak ada yang terjadi saat ia dipanggil.\n"
   ]
  },
  {
   "cell_type": "code",
   "execution_count": 2,
   "id": "310bde7e",
   "metadata": {},
   "outputs": [
    {
     "name": "stdout",
     "output_type": "stream",
     "text": [
      "peroleh: 1\n",
      "dapat angka 1\n"
     ]
    }
   ],
   "source": [
    "n = ''\n",
    "\n",
    "while(n in 'z'):\n",
    "    n = (input('peroleh: '))\n",
    "    print('dapat angka {}'.format(int(n)))"
   ]
  },
  {
   "cell_type": "code",
   "execution_count": 3,
   "id": "499ef701",
   "metadata": {},
   "outputs": [
    {
     "name": "stdout",
     "output_type": "stream",
     "text": [
      "peroleh: 1\n",
      "dapat angka 1\n",
      "peroleh: 2\n",
      "dapat angka 2\n",
      "peroleh: a\n"
     ]
    },
    {
     "ename": "ValueError",
     "evalue": "invalid literal for int() with base 10: 'a'",
     "output_type": "error",
     "traceback": [
      "\u001b[1;31m---------------------------------------------------------------------------\u001b[0m",
      "\u001b[1;31mValueError\u001b[0m                                Traceback (most recent call last)",
      "\u001b[1;32m<ipython-input-3-12e213e8122a>\u001b[0m in \u001b[0;36m<module>\u001b[1;34m\u001b[0m\n\u001b[0;32m      3\u001b[0m \u001b[1;32mwhile\u001b[0m\u001b[1;33m(\u001b[0m\u001b[0mn\u001b[0m \u001b[1;33m!=\u001b[0m \u001b[1;34m'z'\u001b[0m\u001b[1;33m)\u001b[0m\u001b[1;33m:\u001b[0m\u001b[1;33m\u001b[0m\u001b[1;33m\u001b[0m\u001b[0m\n\u001b[0;32m      4\u001b[0m     \u001b[0mn\u001b[0m \u001b[1;33m=\u001b[0m \u001b[1;33m(\u001b[0m\u001b[0minput\u001b[0m\u001b[1;33m(\u001b[0m\u001b[1;34m'peroleh: '\u001b[0m\u001b[1;33m)\u001b[0m\u001b[1;33m)\u001b[0m\u001b[1;33m\u001b[0m\u001b[1;33m\u001b[0m\u001b[0m\n\u001b[1;32m----> 5\u001b[1;33m     \u001b[0mprint\u001b[0m\u001b[1;33m(\u001b[0m\u001b[1;34m'dapat angka {}'\u001b[0m\u001b[1;33m.\u001b[0m\u001b[0mformat\u001b[0m\u001b[1;33m(\u001b[0m\u001b[0mint\u001b[0m\u001b[1;33m(\u001b[0m\u001b[0mn\u001b[0m\u001b[1;33m)\u001b[0m\u001b[1;33m)\u001b[0m\u001b[1;33m)\u001b[0m\u001b[1;33m\u001b[0m\u001b[1;33m\u001b[0m\u001b[0m\n\u001b[0m",
      "\u001b[1;31mValueError\u001b[0m: invalid literal for int() with base 10: 'a'"
     ]
    }
   ],
   "source": [
    "n = ''\n",
    "\n",
    "while(n != 'z'):\n",
    "    n = (input('peroleh: '))\n",
    "    print('dapat angka {}'.format(int(n)))"
   ]
  },
  {
   "cell_type": "code",
   "execution_count": 4,
   "id": "07e43250",
   "metadata": {},
   "outputs": [
    {
     "name": "stdout",
     "output_type": "stream",
     "text": [
      "peroleh: 1\n",
      "dapat angka 1\n",
      "peroleh: 2\n",
      "dapat angka 2\n",
      "peroleh: a\n",
      "dapat error <class 'ValueError'>\n",
      "peroleh: z\n"
     ]
    }
   ],
   "source": [
    "import sys\n",
    "\n",
    "n = ''\n",
    "\n",
    "while (n != 'z'):\n",
    "    try:\n",
    "        n = (input('peroleh: '))\n",
    "        print('dapat angka {}'.format(int(n)))\n",
    "    except:\n",
    "        if n == 'z':\n",
    "            pass\n",
    "        else:\n",
    "            print('dapat error {}'.format(sys.exc_info()[0]))"
   ]
  },
  {
   "cell_type": "markdown",
   "id": "b96ed6d0",
   "metadata": {},
   "source": [
    "Task"
   ]
  },
  {
   "cell_type": "code",
   "execution_count": 1,
   "id": "8347848d",
   "metadata": {},
   "outputs": [
    {
     "name": "stdout",
     "output_type": "stream",
     "text": [
      "input: 1\n",
      "Anda telah menginput angka 1\n",
      "input: s\n",
      "dapat error <class 'ValueError'>\n",
      "input: x\n"
     ]
    }
   ],
   "source": [
    "import sys\n",
    "\n",
    "n = ''\n",
    "\n",
    "while (n != 'x'):\n",
    "    try:\n",
    "        n = (input('input: '))\n",
    "        print('Anda telah menginput angka {}'.format(int(n)))\n",
    "    except:\n",
    "        if n == 'x':\n",
    "            pass\n",
    "        else:\n",
    "            print('Terdapat error {}'.format(sys.exc_info()[0]))"
   ]
  },
  {
   "cell_type": "code",
   "execution_count": null,
   "id": "60a762dd",
   "metadata": {},
   "outputs": [],
   "source": []
  }
 ],
 "metadata": {
  "kernelspec": {
   "display_name": "Python 3",
   "language": "python",
   "name": "python3"
  },
  "language_info": {
   "codemirror_mode": {
    "name": "ipython",
    "version": 3
   },
   "file_extension": ".py",
   "mimetype": "text/x-python",
   "name": "python",
   "nbconvert_exporter": "python",
   "pygments_lexer": "ipython3",
   "version": "3.8.8"
  }
 },
 "nbformat": 4,
 "nbformat_minor": 5
}
