{
 "cells": [
  {
   "cell_type": "markdown",
   "id": "d48a0cf3",
   "metadata": {},
   "source": [
    "#### List Comprehension (List dengan inline loop dan if)\n",
    "\n",
    "list baru dari list sebelumnya\n",
    "\n",
    "Cara untuk menghasilkan list baru berdasarkan list atau iterables yang telah ada\n"
   ]
  },
  {
   "cell_type": "code",
   "execution_count": 30,
   "id": "36ddbc23",
   "metadata": {},
   "outputs": [],
   "source": [
    "angka = [2,3,4]"
   ]
  },
  {
   "cell_type": "code",
   "execution_count": 31,
   "id": "44bc60eb",
   "metadata": {},
   "outputs": [],
   "source": [
    "kubik = []"
   ]
  },
  {
   "cell_type": "code",
   "execution_count": 32,
   "id": "c47d5a68",
   "metadata": {},
   "outputs": [
    {
     "name": "stdout",
     "output_type": "stream",
     "text": [
      "[8, 27, 64]\n"
     ]
    }
   ],
   "source": [
    "# mencari nilai kubik (pangkat 3) masing-masing element dalam List \n",
    "# 'for' bisa untuk list, range, atau string\n",
    "\n",
    "for a in angka: \n",
    "    kubik.append(a**3)\n",
    "print(kubik)"
   ]
  },
  {
   "cell_type": "markdown",
   "id": "729ba3b1",
   "metadata": {},
   "source": [
    "#### Penulisan dengan cara lain\n",
    "\n",
    "new_list = [expression for_loop_one_or_more conditions]"
   ]
  },
  {
   "cell_type": "code",
   "execution_count": 2,
   "id": "c088167f",
   "metadata": {},
   "outputs": [],
   "source": [
    "angka = [2,3,4]"
   ]
  },
  {
   "cell_type": "code",
   "execution_count": 3,
   "id": "4899d72f",
   "metadata": {},
   "outputs": [],
   "source": [
    "kubik = [i**3 for i in angka]"
   ]
  },
  {
   "cell_type": "code",
   "execution_count": 4,
   "id": "c6a60888",
   "metadata": {},
   "outputs": [
    {
     "name": "stdout",
     "output_type": "stream",
     "text": [
      "[8, 27, 64]\n"
     ]
    }
   ],
   "source": [
    "print(kubik)"
   ]
  },
  {
   "cell_type": "code",
   "execution_count": 6,
   "id": "de3329bb",
   "metadata": {},
   "outputs": [
    {
     "name": "stdout",
     "output_type": "stream",
     "text": [
      "['c']\n"
     ]
    }
   ],
   "source": [
    "abc = ['a', 'b', 'c'] \n",
    "cde = ['c', 'd', 'e']\n",
    "\n",
    "duplikat = []\n",
    "\n",
    "for i in abc:\n",
    "    for j in cde:\n",
    "        if i == j:\n",
    "            duplikat.append(i)\n",
    "print(duplikat)"
   ]
  },
  {
   "cell_type": "code",
   "execution_count": 8,
   "id": "09f3d769",
   "metadata": {},
   "outputs": [
    {
     "name": "stdout",
     "output_type": "stream",
     "text": [
      "['c']\n"
     ]
    }
   ],
   "source": [
    "abc = ['a', 'b', 'c'] \n",
    "cde = ['c', 'd', 'e']\n",
    "\n",
    "duplikat = [i for i in abc for j in cde if i == j]\n",
    "\n",
    "print(duplikat)"
   ]
  },
  {
   "cell_type": "markdown",
   "id": "8dd3ca5d",
   "metadata": {},
   "source": [
    "Task"
   ]
  },
  {
   "cell_type": "code",
   "execution_count": 13,
   "id": "ae9ceb3e",
   "metadata": {},
   "outputs": [
    {
     "data": {
      "text/plain": [
       "[1, 2, 3]"
      ]
     },
     "execution_count": 13,
     "metadata": {},
     "output_type": "execute_result"
    }
   ],
   "source": [
    "list1 = [1,2,3,4,5]\n",
    "list2 = [1,4,9,30,30]\n",
    "\n",
    "temp = []\n",
    "\n",
    "for i in list1:\n",
    "    for j in list2:\n",
    "        if i**2 == j:\n",
    "            temp.append(i)\n",
    "temp"
   ]
  },
  {
   "cell_type": "code",
   "execution_count": 16,
   "id": "6c480999",
   "metadata": {},
   "outputs": [
    {
     "name": "stdout",
     "output_type": "stream",
     "text": [
      "['DATA', 'SCIENCE']\n"
     ]
    }
   ],
   "source": [
    "data = [\"data\", \"science\"]\n",
    "\n",
    "upper = [_.upper() for _ in data]\n",
    "\n",
    "print(upper)"
   ]
  },
  {
   "cell_type": "markdown",
   "id": "60df1919",
   "metadata": {},
   "source": [
    "- Garis bawah (underscore) termasuk penamaan variabel yang valid.\n",
    "- Secara umum biasa digunakan sebagai throwaway variable (variabel tidak penting)"
   ]
  },
  {
   "cell_type": "code",
   "execution_count": 24,
   "id": "dc7c6b0e",
   "metadata": {},
   "outputs": [
    {
     "name": "stdout",
     "output_type": "stream",
     "text": [
      "[[1, 1], [9, 27], [25, 125], [49, 343]]\n"
     ]
    }
   ],
   "source": [
    "angka = range(1,8,2)\n",
    "kuadrat_kubik = [[_**2, _**3] for _ in angka]\n",
    "print(kuadrat_kubik)"
   ]
  },
  {
   "cell_type": "code",
   "execution_count": 26,
   "id": "7156afad",
   "metadata": {},
   "outputs": [
    {
     "name": "stdout",
     "output_type": "stream",
     "text": [
      "1\n",
      "3\n",
      "5\n",
      "7\n"
     ]
    }
   ],
   "source": [
    "for _ in range(1,8,2):\n",
    "    print(_)"
   ]
  },
  {
   "cell_type": "markdown",
   "id": "d63e1107",
   "metadata": {},
   "source": [
    "Task"
   ]
  },
  {
   "cell_type": "code",
   "execution_count": 28,
   "id": "ea6902e2",
   "metadata": {},
   "outputs": [
    {
     "name": "stdout",
     "output_type": "stream",
     "text": [
      "['kucing', 'anjing', 'kelinci']\n"
     ]
    }
   ],
   "source": [
    "data = ['Kucing', 'Anjing', 'Kelinci']\n",
    "upper = [i.lower() for i in data]\n",
    "print(upper)"
   ]
  },
  {
   "cell_type": "code",
   "execution_count": null,
   "id": "23f8f064",
   "metadata": {},
   "outputs": [],
   "source": []
  }
 ],
 "metadata": {
  "kernelspec": {
   "display_name": "Python 3",
   "language": "python",
   "name": "python3"
  },
  "language_info": {
   "codemirror_mode": {
    "name": "ipython",
    "version": 3
   },
   "file_extension": ".py",
   "mimetype": "text/x-python",
   "name": "python",
   "nbconvert_exporter": "python",
   "pygments_lexer": "ipython3",
   "version": "3.8.8"
  }
 },
 "nbformat": 4,
 "nbformat_minor": 5
}
