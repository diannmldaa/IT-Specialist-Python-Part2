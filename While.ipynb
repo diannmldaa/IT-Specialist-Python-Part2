{
 "cells": [
  {
   "cell_type": "markdown",
   "id": "d30d0167",
   "metadata": {},
   "source": [
    "### WHILE\n",
    "\n",
    "- While pada bahasa Python digunakan untuk mengeksekusi statement selama kondisi yang diberikan terpenuhi (True)\n",
    "- Kondisi dapat berupa expression apapun, dan harap dingat bahwa True di Python termasuk semua nilai non-zero\n",
    "- Saat kondisi menjadi False, program akan melanjutkan ke baris setelah blok statement"
   ]
  },
  {
   "cell_type": "markdown",
   "id": "115117f4",
   "metadata": {},
   "source": [
    "Hati-hati:"
   ]
  },
  {
   "cell_type": "code",
   "execution_count": null,
   "id": "72b5f337",
   "metadata": {},
   "outputs": [],
   "source": [
    "# angka = int(input())\n",
    "\n",
    "# while (angka < 3):\n",
    "#     print('bilangan')"
   ]
  },
  {
   "cell_type": "code",
   "execution_count": null,
   "id": "bb9fae20",
   "metadata": {},
   "outputs": [],
   "source": [
    "angka = int(input())\n",
    "\n",
    "while (angka < 3):\n",
    "    print('bilangan {}'.format (angka))\n",
    "    angka = angka + 1\n",
    "    \n",
    "    #input = 1"
   ]
  },
  {
   "cell_type": "code",
   "execution_count": null,
   "id": "4b28e0f7",
   "metadata": {},
   "outputs": [],
   "source": [
    "angka = int(input())\n",
    "\n",
    "while (angka < 10):\n",
    "    angka = angka + 2\n",
    "    print('bilangan {}'.format (angka))\n",
    "    \n",
    "    #input = 6"
   ]
  },
  {
   "cell_type": "markdown",
   "id": "ec9a4ad6",
   "metadata": {},
   "source": [
    "Kenapa angka 10 keluar? Itu angka 8, tapi ditambah 2"
   ]
  },
  {
   "cell_type": "markdown",
   "id": "2b3c426b",
   "metadata": {},
   "source": [
    "Task"
   ]
  },
  {
   "cell_type": "code",
   "execution_count": null,
   "id": "9cee5661",
   "metadata": {},
   "outputs": [],
   "source": [
    "angka = int(input())\n",
    "\n",
    "while (angka > 0):\n",
    "    angka1 = angka\n",
    "    angka = angka - 2\n",
    "    print('{} - 2 = {}'.format (angka1, angka))\n",
    "    \n",
    "    #input = 10"
   ]
  },
  {
   "cell_type": "markdown",
   "id": "11b8929e",
   "metadata": {},
   "source": [
    "#### ELSE setelah WHILE\n",
    "\n",
    "Pada statement while, blok statement else akan selalu dieksekusi saat kondisi pada while menjadi salah\n"
   ]
  },
  {
   "cell_type": "code",
   "execution_count": null,
   "id": "6e343032",
   "metadata": {},
   "outputs": [],
   "source": [
    "angka = int(input()) #input = 5\n",
    "\n",
    "while (angka < 10):\n",
    "    angka = angka + 2 \n",
    "    if angka == 6:\n",
    "        break \n",
    "    print(angka) \n",
    "else:\n",
    "    print(\"loop selesai\")"
   ]
  },
  {
   "cell_type": "code",
   "execution_count": null,
   "id": "be34096d",
   "metadata": {},
   "outputs": [],
   "source": [
    "angka = int(input()) #input = 10\n",
    "\n",
    "while (angka > 0): \n",
    "    angka = angka - 2\n",
    "    print(angka)\n",
    "else:\n",
    "    print(\"loop selesai\")"
   ]
  },
  {
   "cell_type": "markdown",
   "id": "4f158672",
   "metadata": {},
   "source": [
    "Task"
   ]
  },
  {
   "cell_type": "code",
   "execution_count": null,
   "id": "75b8227c",
   "metadata": {},
   "outputs": [],
   "source": [
    "angka = int(input()) #input = 16\n",
    "\n",
    "while (angka > 0): \n",
    "    if angka == 10:\n",
    "        continue\n",
    "    elif angka == 4:\n",
    "        break\n",
    "    else: \n",
    "        angka = angka - 2\n",
    "    print(angka)"
   ]
  },
  {
   "cell_type": "code",
   "execution_count": null,
   "id": "328eed7e",
   "metadata": {},
   "outputs": [],
   "source": [
    "angka = int(input()) #input = 20\n",
    "\n",
    "while (angka > 0): \n",
    "    if angka == 10:\n",
    "        continue"
   ]
  },
  {
   "cell_type": "code",
   "execution_count": null,
   "id": "1dec9e97",
   "metadata": {},
   "outputs": [],
   "source": [
    "## Menampilkan bilangan 1 sampai 10 yang dapat dibagi 0.5\n",
    "\n",
    "angka = float(input())\n",
    "a = 0\n",
    "while (a>=angka) :\n",
    "    if angka %0.5 != 0 :\n",
    "        continue\n",
    "    print (\"Berikut ini bilangan yang dapat dibagi 0.5 :\"),angka\n",
    "    angka = angka + 0.1\n",
    "else :\n",
    "    print (\"Selesai\")"
   ]
  },
  {
   "cell_type": "code",
   "execution_count": 3,
   "id": "184629ed",
   "metadata": {},
   "outputs": [
    {
     "name": "stdout",
     "output_type": "stream",
     "text": [
      "Masukkan nama Anda: exit\n"
     ]
    }
   ],
   "source": [
    "name = input('Masukkan nama Anda: ')\n",
    "while (name != 'exit'):\n",
    "    if (not(name.isalpha())):\n",
    "        print('Masukkan nama dengan benar')\n",
    "        name = input('Masukkan nama Anda:')\n",
    "    else:\n",
    "        print('Nama Anda adalah ', name)\n",
    "        break"
   ]
  },
  {
   "cell_type": "code",
   "execution_count": 4,
   "id": "799904e8",
   "metadata": {},
   "outputs": [
    {
     "name": "stdout",
     "output_type": "stream",
     "text": [
      "Apple\n",
      "Mango\n",
      "Lime\n",
      "Strawberry\n"
     ]
    }
   ],
   "source": [
    "myArr = ['Apple', 'Mango', 'Lime', 'Strawberry']\n",
    "i = 0\n",
    "while (i<len(myArr)):\n",
    "    if (myArr[1] == 'Lime'):\n",
    "        print(f'Bagian {myArr[i]} adalah continue')\n",
    "        i += 1\n",
    "        continue;\n",
    "    print(myArr[i])\n",
    "    i += 1"
   ]
  },
  {
   "cell_type": "code",
   "execution_count": null,
   "id": "87007a5d",
   "metadata": {},
   "outputs": [],
   "source": []
  }
 ],
 "metadata": {
  "kernelspec": {
   "display_name": "Python 3",
   "language": "python",
   "name": "python3"
  },
  "language_info": {
   "codemirror_mode": {
    "name": "ipython",
    "version": 3
   },
   "file_extension": ".py",
   "mimetype": "text/x-python",
   "name": "python",
   "nbconvert_exporter": "python",
   "pygments_lexer": "ipython3",
   "version": "3.8.8"
  }
 },
 "nbformat": 4,
 "nbformat_minor": 5
}
