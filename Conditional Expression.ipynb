{
 "cells": [
  {
   "cell_type": "markdown",
   "id": "ba12907f",
   "metadata": {},
   "source": [
    "### Conditional Expression"
   ]
  },
  {
   "cell_type": "markdown",
   "id": "5cc3e90b",
   "metadata": {},
   "source": [
    "#### IF\n",
    "\n",
    "- Di Python, expression diletakkan setelah if, dan keputusan ditentukan berdasarkan nilai kebenaran dari expression tersebut\n",
    "- Jika expression dievaluasi sebagai True, maka blok statement di dalam if statement akan diekseskusi\n",
    "- Sesuai konvensi, blok ini memiliki indentasi masuk setelah tanda titik dua (:)\n",
    "- Jika expression dievaluasi sebagai False, maka blok selanjutnya (setelah statement IF) yang akan dijalankan"
   ]
  },
  {
   "cell_type": "code",
   "execution_count": 2,
   "id": "11a944e0",
   "metadata": {},
   "outputs": [
    {
     "name": "stdout",
     "output_type": "stream",
     "text": [
      "Benar namaku Ko Yu Rin\n"
     ]
    }
   ],
   "source": [
    "namaku = 'Ko Yu Rin'\n",
    "\n",
    "if namaku:\n",
    "    print('Benar namaku {}'.format(namaku))"
   ]
  },
  {
   "cell_type": "markdown",
   "id": "c0265ec5",
   "metadata": {},
   "source": [
    "Task"
   ]
  },
  {
   "cell_type": "code",
   "execution_count": 4,
   "id": "9a037e07",
   "metadata": {},
   "outputs": [],
   "source": [
    "hari = 'Rabu'"
   ]
  },
  {
   "cell_type": "code",
   "execution_count": 5,
   "id": "9d79c22f",
   "metadata": {},
   "outputs": [
    {
     "name": "stdout",
     "output_type": "stream",
     "text": [
      "Hari ini hari Rabu\n"
     ]
    }
   ],
   "source": [
    "# FORMAT\n",
    "\n",
    "if namaku:\n",
    "    print('Hari ini hari {}'.format(hari))"
   ]
  },
  {
   "cell_type": "code",
   "execution_count": 7,
   "id": "77490741",
   "metadata": {},
   "outputs": [
    {
     "name": "stdout",
     "output_type": "stream",
     "text": [
      "Hari ini hari Rabu\n"
     ]
    }
   ],
   "source": [
    "# KOMA\n",
    "\n",
    "if namaku:\n",
    "    print('Hari ini hari', hari)"
   ]
  },
  {
   "cell_type": "code",
   "execution_count": 9,
   "id": "2a2f26b9",
   "metadata": {},
   "outputs": [
    {
     "name": "stdout",
     "output_type": "stream",
     "text": [
      "Hari ini hari Rabu\n"
     ]
    }
   ],
   "source": [
    "# %\n",
    "\n",
    "if namaku:\n",
    "    print('Hari ini hari %s' %(hari))"
   ]
  },
  {
   "cell_type": "markdown",
   "id": "2514ae82",
   "metadata": {},
   "source": [
    "#### ELSE\n",
    "\n",
    "- Statement ELSE dapat dikombinasikan dengan IF statement, sebegai jalan keluar saat kondisi/hasil evaluasibernilai False\n",
    "- ELSE bersifat opsional dan tunggal"
   ]
  },
  {
   "cell_type": "code",
   "execution_count": 12,
   "id": "cfb7f701",
   "metadata": {},
   "outputs": [
    {
     "name": "stdout",
     "output_type": "stream",
     "text": [
      "Usia Anda: 20\n",
      "Saya punya KTP\n"
     ]
    }
   ],
   "source": [
    "usia = int(input('Usia Anda: '))\n",
    "\n",
    "if usia >= 17:\n",
    "    print('Saya punya KTP')"
   ]
  },
  {
   "cell_type": "markdown",
   "id": "a575b93a",
   "metadata": {},
   "source": [
    "Task"
   ]
  },
  {
   "cell_type": "code",
   "execution_count": 22,
   "id": "168b10fa",
   "metadata": {},
   "outputs": [
    {
     "name": "stdout",
     "output_type": "stream",
     "text": [
      "Uang saku Anda: 100000\n",
      "Data telah direkam. Uang saku Anda adalah 100000\n"
     ]
    }
   ],
   "source": [
    "# FORMAT\n",
    "\n",
    "uang = int(input('Uang saku Anda: '))\n",
    "\n",
    "if uang > 50000:\n",
    "    print('Data telah direkam. Uang saku Anda adalah {}'.format(uang))"
   ]
  },
  {
   "cell_type": "code",
   "execution_count": 23,
   "id": "e0f66378",
   "metadata": {},
   "outputs": [
    {
     "name": "stdout",
     "output_type": "stream",
     "text": [
      "Uang saku Anda: 60000\n",
      "Data telah direkam. Uang saku Anda adalah 60000\n"
     ]
    }
   ],
   "source": [
    "# KOMA\n",
    "\n",
    "uang = int(input('Uang saku Anda: '))\n",
    "\n",
    "if uang >= 50000:\n",
    "    print('Data telah direkam. Uang saku Anda adalah', uang)"
   ]
  },
  {
   "cell_type": "code",
   "execution_count": 26,
   "id": "6f4b9ce7",
   "metadata": {},
   "outputs": [
    {
     "name": "stdout",
     "output_type": "stream",
     "text": [
      "Uang saku Anda: 60000\n",
      "Data telah direkam. Uang saku Anda adalah 60000\n"
     ]
    }
   ],
   "source": [
    "# %\n",
    "\n",
    "uang = int(input('Uang saku Anda: '))\n",
    "\n",
    "if uang >= 50000:\n",
    "    print('Data telah direkam. Uang saku Anda adalah %d' % (uang))"
   ]
  },
  {
   "cell_type": "markdown",
   "id": "79094871",
   "metadata": {},
   "source": [
    "#### ELIF\n",
    "\n",
    "- ELIF adalah kependekan dari else IF\n",
    "- ELIF merupakan alternatif untuk IF bertingkat\n",
    "- Sebuah IF statement dapat diikuti satu atau lebih ELIF statement (opsional & tidak dibatasi)"
   ]
  },
  {
   "cell_type": "code",
   "execution_count": 27,
   "id": "b8b3e715",
   "metadata": {},
   "outputs": [
    {
     "name": "stdout",
     "output_type": "stream",
     "text": [
      "Berapa nilai Anda: 70\n",
      "Anda mendapat nilai B\n"
     ]
    }
   ],
   "source": [
    "nilai = int(input('Berapa nilai Anda: '))\n",
    "\n",
    "if nilai >= 80:\n",
    "    print('Anda mendapat nilai A')\n",
    "elif nilai >= 60:\n",
    "    print('Anda mendapat nilai B')\n",
    "else:\n",
    "    print('Anda mendapat nilai C')"
   ]
  },
  {
   "cell_type": "markdown",
   "id": "04254101",
   "metadata": {},
   "source": [
    "Task"
   ]
  },
  {
   "cell_type": "code",
   "execution_count": 5,
   "id": "95403180",
   "metadata": {},
   "outputs": [
    {
     "name": "stdout",
     "output_type": "stream",
     "text": [
      "Uang saku Anda: 10000\n",
      "Silakan minta uang saku tambahan!\n"
     ]
    }
   ],
   "source": [
    "uang = int(input('Uang saku Anda: '))\n",
    "\n",
    "if uang >= 100000:\n",
    "    print('Anda harus menabung hari ini.')\n",
    "elif uang >= 75000:\n",
    "    print('Uang saku Anda adalah {}. Anda disarankan untuk menabung.'.format(uang))\n",
    "elif uang >= 50000:\n",
    "    print('Uang saku Anda adalah', uang)\n",
    "elif uang >= 25000:\n",
    "    print('Uang saku Anda adalah %d. Anda harus hemat hari ini.' % (uang))\n",
    "else:\n",
    "    print('Silakan minta uang saku tambahan!')"
   ]
  },
  {
   "cell_type": "markdown",
   "id": "ee338677",
   "metadata": {},
   "source": []
  }
 ],
 "metadata": {
  "kernelspec": {
   "display_name": "Python 3",
   "language": "python",
   "name": "python3"
  },
  "language_info": {
   "codemirror_mode": {
    "name": "ipython",
    "version": 3
   },
   "file_extension": ".py",
   "mimetype": "text/x-python",
   "name": "python",
   "nbconvert_exporter": "python",
   "pygments_lexer": "ipython3",
   "version": "3.8.8"
  }
 },
 "nbformat": 4,
 "nbformat_minor": 5
}
