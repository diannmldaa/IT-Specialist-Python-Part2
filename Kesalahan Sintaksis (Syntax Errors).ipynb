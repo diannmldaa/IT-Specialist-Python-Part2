{
 "cells": [
  {
   "cell_type": "markdown",
   "id": "a9e0c5ca",
   "metadata": {},
   "source": [
    "#### Penanganan Kesalahan (Error dan Exception Handling)\n",
    "\n",
    "Dua jenis kesalahan berdasarkan kejadiannya\n",
    "\n",
    "1. Kesalahan sintaksis (syntax errors)\n",
    "2. Pengecualian (exceptions)"
   ]
  },
  {
   "cell_type": "markdown",
   "id": "eb726bd7",
   "metadata": {},
   "source": [
    "#### Kesalahan sintaksis\n",
    "\n",
    "Kesalahan sintaksis terjadi ketika Python tidak dapat mengerti apa yang Anda perintahkan\n",
    "\n",
    "Kesalahan sintaksis biasanya sering terjadi saat Anda masih baru memulai belajar Python.\n",
    "\n",
    "Misalnya penempatan indentasi (spasi di awal) yang tidak sesuai."
   ]
  },
  {
   "cell_type": "code",
   "execution_count": 1,
   "id": "d46f9f5d",
   "metadata": {},
   "outputs": [
    {
     "ename": "IndentationError",
     "evalue": "expected an indented block (<ipython-input-1-99e9a32db70f>, line 2)",
     "output_type": "error",
     "traceback": [
      "\u001b[1;36m  File \u001b[1;32m\"<ipython-input-1-99e9a32db70f>\"\u001b[1;36m, line \u001b[1;32m2\u001b[0m\n\u001b[1;33m    print(i)\u001b[0m\n\u001b[1;37m    ^\u001b[0m\n\u001b[1;31mIndentationError\u001b[0m\u001b[1;31m:\u001b[0m expected an indented block\n"
     ]
    }
   ],
   "source": [
    "for i in 'data':\n",
    "print(i)"
   ]
  },
  {
   "cell_type": "markdown",
   "id": "099f1a64",
   "metadata": {},
   "source": [
    "Contoh berikut ini menampilkan kesalahan sintaksis, di mana setelah kondisi dari perintah for diharuskan ada tanda titik dua (:)"
   ]
  },
  {
   "cell_type": "code",
   "execution_count": 2,
   "id": "3381f9a8",
   "metadata": {},
   "outputs": [
    {
     "ename": "SyntaxError",
     "evalue": "invalid syntax (<ipython-input-2-c7a9d3148465>, line 1)",
     "output_type": "error",
     "traceback": [
      "\u001b[1;36m  File \u001b[1;32m\"<ipython-input-2-c7a9d3148465>\"\u001b[1;36m, line \u001b[1;32m1\u001b[0m\n\u001b[1;33m    for i in 'data'\u001b[0m\n\u001b[1;37m                   ^\u001b[0m\n\u001b[1;31mSyntaxError\u001b[0m\u001b[1;31m:\u001b[0m invalid syntax\n"
     ]
    }
   ],
   "source": [
    "for i in 'data'\n",
    "    print(i)"
   ]
  },
  {
   "cell_type": "markdown",
   "id": "9a7e7783",
   "metadata": {},
   "source": [
    "Task"
   ]
  },
  {
   "cell_type": "code",
   "execution_count": 3,
   "id": "fd845fbe",
   "metadata": {},
   "outputs": [],
   "source": [
    "# membuat 2 kesalahan syntax"
   ]
  },
  {
   "cell_type": "code",
   "execution_count": 13,
   "id": "d5d80e4c",
   "metadata": {},
   "outputs": [
    {
     "ename": "SyntaxError",
     "evalue": "invalid syntax (<ipython-input-13-c540e895b051>, line 6)",
     "output_type": "error",
     "traceback": [
      "\u001b[1;36m  File \u001b[1;32m\"<ipython-input-13-c540e895b051>\"\u001b[1;36m, line \u001b[1;32m6\u001b[0m\n\u001b[1;33m    print(kubik)\u001b[0m\n\u001b[1;37m    ^\u001b[0m\n\u001b[1;31mSyntaxError\u001b[0m\u001b[1;31m:\u001b[0m invalid syntax\n"
     ]
    }
   ],
   "source": [
    "angka = [2,3,4]\n",
    "kubik = []\n",
    "\n",
    "for a in angka: \n",
    "    kubik.append(a**3\n",
    "print(kubik)"
   ]
  },
  {
   "cell_type": "code",
   "execution_count": 14,
   "id": "e886bd0d",
   "metadata": {},
   "outputs": [
    {
     "ename": "SyntaxError",
     "evalue": "invalid syntax (<ipython-input-14-f27a465d6b74>, line 4)",
     "output_type": "error",
     "traceback": [
      "\u001b[1;36m  File \u001b[1;32m\"<ipython-input-14-f27a465d6b74>\"\u001b[1;36m, line \u001b[1;32m4\u001b[0m\n\u001b[1;33m    duplikat = [i for i in abc for j in cde if i = j]\u001b[0m\n\u001b[1;37m                                                 ^\u001b[0m\n\u001b[1;31mSyntaxError\u001b[0m\u001b[1;31m:\u001b[0m invalid syntax\n"
     ]
    }
   ],
   "source": [
    "abc = ['a', 'b', 'c'] \n",
    "cde = ['c', 'd', 'e']\n",
    "\n",
    "duplikat = [i for i in abc for j in cde if i = j]\n",
    "\n",
    "print(duplikat)"
   ]
  },
  {
   "cell_type": "code",
   "execution_count": null,
   "id": "4b775212",
   "metadata": {},
   "outputs": [],
   "source": []
  }
 ],
 "metadata": {
  "kernelspec": {
   "display_name": "Python 3",
   "language": "python",
   "name": "python3"
  },
  "language_info": {
   "codemirror_mode": {
    "name": "ipython",
    "version": 3
   },
   "file_extension": ".py",
   "mimetype": "text/x-python",
   "name": "python",
   "nbconvert_exporter": "python",
   "pygments_lexer": "ipython3",
   "version": "3.8.8"
  }
 },
 "nbformat": 4,
 "nbformat_minor": 5
}
