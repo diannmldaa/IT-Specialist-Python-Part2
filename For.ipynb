{
 "cells": [
  {
   "cell_type": "markdown",
   "id": "8f6bed17",
   "metadata": {},
   "source": [
    "### FOR\n",
    "\n",
    "- for adalah fungsi yang dapat melakukan perulangan pada setiap jenis variabel berupa kumpulan atau unutan\n",
    "\n",
    "- Variabel yang dimaksud bisa berupa list, string, ataupun range\n",
    "\n",
    "- Jika sebuah list atau urutan berisi expression, maka la akan dievaluasi terlebih dahulu\n",
    "\n",
    "- Kemudian item pertama pada urutan/list akan diassign sebagai variabel iterating_var\n",
    "\n",
    "- Setelahnya, biok statement akan dieksekusi, berlanjut ke item berikutnya, berulang, hingga seluruh urutan habis"
   ]
  },
  {
   "cell_type": "code",
   "execution_count": 1,
   "id": "7f6f7113",
   "metadata": {},
   "outputs": [
    {
     "name": "stdout",
     "output_type": "stream",
     "text": [
      "huruf d\n",
      "huruf a\n",
      "huruf t\n",
      "huruf a\n"
     ]
    }
   ],
   "source": [
    "for i in 'data':\n",
    "    print('huruf {}'.format(i))"
   ]
  },
  {
   "cell_type": "code",
   "execution_count": 2,
   "id": "cc5f8475",
   "metadata": {},
   "outputs": [
    {
     "name": "stdout",
     "output_type": "stream",
     "text": [
      "warna merah\n",
      "warna kuning\n",
      "warna hijau\n"
     ]
    }
   ],
   "source": [
    "color = ['merah', 'kuning', 'hijau']\n",
    "\n",
    "for i in color:\n",
    "    print('warna {}'.format(i))"
   ]
  },
  {
   "cell_type": "code",
   "execution_count": 3,
   "id": "34917be9",
   "metadata": {},
   "outputs": [
    {
     "name": "stdout",
     "output_type": "stream",
     "text": [
      "0\n",
      "1\n",
      "2\n"
     ]
    }
   ],
   "source": [
    "for i in range(3):\n",
    "    print(i)"
   ]
  },
  {
   "cell_type": "code",
   "execution_count": 4,
   "id": "63754b86",
   "metadata": {},
   "outputs": [
    {
     "name": "stdout",
     "output_type": "stream",
     "text": [
      "1\n",
      "2\n",
      "3\n"
     ]
    }
   ],
   "source": [
    "for i in range (1,4):\n",
    "    print(i)"
   ]
  },
  {
   "cell_type": "markdown",
   "id": "367e7801",
   "metadata": {},
   "source": [
    "Task"
   ]
  },
  {
   "cell_type": "code",
   "execution_count": 11,
   "id": "d20348d2",
   "metadata": {},
   "outputs": [
    {
     "name": "stdout",
     "output_type": "stream",
     "text": [
      "Huruf: m\n",
      "Huruf: a\n",
      "Huruf: k\n",
      "Huruf: a\n",
      "Huruf: n\n"
     ]
    }
   ],
   "source": [
    "# for string (format)\n",
    "\n",
    "kata = 'makan'\n",
    "for i in kata:\n",
    "    print('Huruf: {}'.format(i))"
   ]
  },
  {
   "cell_type": "code",
   "execution_count": 13,
   "id": "06f43206",
   "metadata": {},
   "outputs": [
    {
     "name": "stdout",
     "output_type": "stream",
     "text": [
      "Angka: 1\n",
      "Angka: 2\n",
      "Angka: 3\n"
     ]
    }
   ],
   "source": [
    "# for list (koma)\n",
    "\n",
    "num = [1,2,3]\n",
    "for i in num:\n",
    "    print('Angka:', i)"
   ]
  },
  {
   "cell_type": "code",
   "execution_count": 15,
   "id": "86d1a9a3",
   "metadata": {},
   "outputs": [
    {
     "name": "stdout",
     "output_type": "stream",
     "text": [
      "0\n",
      "1\n"
     ]
    }
   ],
   "source": [
    "# for range (1p)\n",
    "\n",
    "for i in range(2):\n",
    "    print(i)"
   ]
  },
  {
   "cell_type": "code",
   "execution_count": 17,
   "id": "ad55b85d",
   "metadata": {},
   "outputs": [
    {
     "name": "stdout",
     "output_type": "stream",
     "text": [
      "2\n",
      "3\n",
      "4\n"
     ]
    }
   ],
   "source": [
    "# for range (2p)\n",
    "\n",
    "for i in range(2,5):\n",
    "    print(i)"
   ]
  },
  {
   "cell_type": "code",
   "execution_count": 18,
   "id": "069a5e41",
   "metadata": {},
   "outputs": [
    {
     "name": "stdout",
     "output_type": "stream",
     "text": [
      "2\n",
      "5\n",
      "8\n"
     ]
    }
   ],
   "source": [
    "# for range (3p)\n",
    "\n",
    "for i in range(2,10,3):\n",
    "    print(i)"
   ]
  },
  {
   "cell_type": "markdown",
   "id": "0600077d",
   "metadata": {},
   "source": [
    "#### FOR Bertingkat\n"
   ]
  },
  {
   "cell_type": "code",
   "execution_count": 25,
   "id": "3b9696aa",
   "metadata": {},
   "outputs": [
    {
     "name": "stdout",
     "output_type": "stream",
     "text": [
      "* * * \n",
      "* * \n",
      "* \n"
     ]
    }
   ],
   "source": [
    "for row in range(3):\n",
    "    for col in range(3):\n",
    "        if row == 0 and col <= 2:\n",
    "            print('*', end = ' ')\n",
    "        elif row == 1 and col <= 1:\n",
    "            print('*', end = ' ')\n",
    "        elif row == 2 and col <= 0:\n",
    "            print('*', end = ' ')\n",
    "    print()"
   ]
  },
  {
   "cell_type": "markdown",
   "id": "38cabbf3",
   "metadata": {},
   "source": [
    "Task"
   ]
  },
  {
   "cell_type": "code",
   "execution_count": 26,
   "id": "69be191b",
   "metadata": {},
   "outputs": [
    {
     "name": "stdout",
     "output_type": "stream",
     "text": [
      "* * * * \n",
      "* * * \n",
      "* * \n",
      "* \n"
     ]
    }
   ],
   "source": [
    "for row in range(4):\n",
    "    for col in range(4):\n",
    "        if row == 0 and col <= 3:\n",
    "            print('*', end = ' ')\n",
    "        elif row == 1 and col <= 2:\n",
    "            print('*', end = ' ')\n",
    "        elif row == 2 and col <= 1:\n",
    "            print('*', end = ' ')\n",
    "        elif row == 3 and col <= 0:\n",
    "            print('*', end = ' ')\n",
    "    print()"
   ]
  },
  {
   "cell_type": "markdown",
   "id": "0e2b9ca8",
   "metadata": {},
   "source": [
    "#### ELSE setelah FOR\n",
    "\n",
    "Fungsi else setelah for adalah fungsinya diutamakan pada perulangan yang bersifat pencarian - untuk memberikan jalan keluar program saat pencarian tidak ditemukan."
   ]
  },
  {
   "cell_type": "code",
   "execution_count": 1,
   "id": "ce7415f0",
   "metadata": {},
   "outputs": [
    {
     "name": "stdout",
     "output_type": "stream",
     "text": [
      "1 adalah bukan genap\n",
      "2 adalah genap\n"
     ]
    }
   ],
   "source": [
    "for i in range(1,7):\n",
    "    if i % 2 == 0:\n",
    "        print('{} adalah genap'.format(i))\n",
    "        break\n",
    "    else:\n",
    "        print('{} adalah bukan genap'.format(i))"
   ]
  },
  {
   "cell_type": "markdown",
   "id": "9380aef5",
   "metadata": {},
   "source": [
    "Task"
   ]
  },
  {
   "cell_type": "code",
   "execution_count": 4,
   "id": "eab501ed",
   "metadata": {},
   "outputs": [
    {
     "name": "stdout",
     "output_type": "stream",
     "text": [
      "5 adalah bilangan kelipatan 5\n",
      "10 adalah bilangan kelipatan 5\n",
      "15 adalah bilangan kelipatan 5\n",
      "20 adalah bilangan kelipatan 5\n",
      "25 adalah bilangan kelipatan 5\n",
      "30 adalah bilangan kelipatan 5\n",
      "35 adalah bilangan kelipatan 5\n",
      "40 adalah bilangan kelipatan 5\n",
      "45 adalah bilangan kelipatan 5\n",
      "50 adalah bilangan kelipatan 5\n",
      "55 adalah bilangan kelipatan 5\n",
      "60 adalah bilangan kelipatan 5\n",
      "65 adalah bilangan kelipatan 5\n",
      "70 adalah bilangan kelipatan 5\n",
      "75 adalah bilangan kelipatan 5\n",
      "80 adalah bilangan kelipatan 5\n",
      "85 adalah bilangan kelipatan 5\n",
      "90 adalah bilangan kelipatan 5\n",
      "95 adalah bilangan kelipatan 5\n"
     ]
    }
   ],
   "source": [
    "for i in range(5,100,5):\n",
    "    if i % 5 == 0:\n",
    "        print('{} adalah bilangan kelipatan 5'.format(i))\n",
    "    else:\n",
    "        print('{} adalah bukan bilangan kelipatan 5'.format(i))"
   ]
  },
  {
   "cell_type": "code",
   "execution_count": null,
   "id": "1f780db5",
   "metadata": {},
   "outputs": [],
   "source": []
  }
 ],
 "metadata": {
  "kernelspec": {
   "display_name": "Python 3",
   "language": "python",
   "name": "python3"
  },
  "language_info": {
   "codemirror_mode": {
    "name": "ipython",
    "version": 3
   },
   "file_extension": ".py",
   "mimetype": "text/x-python",
   "name": "python",
   "nbconvert_exporter": "python",
   "pygments_lexer": "ipython3",
   "version": "3.8.8"
  }
 },
 "nbformat": 4,
 "nbformat_minor": 5
}
