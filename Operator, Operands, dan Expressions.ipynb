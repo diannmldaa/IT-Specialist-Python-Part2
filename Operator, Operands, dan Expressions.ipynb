{
 "cells": [
  {
   "cell_type": "markdown",
   "id": "d077c73a",
   "metadata": {},
   "source": [
    "### Operator, Operands, dan Expressions"
   ]
  },
  {
   "cell_type": "markdown",
   "id": "38a0f9aa",
   "metadata": {},
   "source": [
    "1+2 b+c\n",
    "\n",
    "- +: operator\n",
    "- 1,2 atau b,c: variabel/operand\n",
    "\n",
    "Kita dapat melakukan expression tanpa menggunakan variabel secara langsung pada mode interaktif Python"
   ]
  },
  {
   "cell_type": "code",
   "execution_count": 1,
   "id": "2eba47a0",
   "metadata": {},
   "outputs": [
    {
     "name": "stdout",
     "output_type": "stream",
     "text": [
      "3\n"
     ]
    }
   ],
   "source": [
    "print(1+2)"
   ]
  },
  {
   "cell_type": "code",
   "execution_count": 2,
   "id": "e945020e",
   "metadata": {},
   "outputs": [
    {
     "name": "stdout",
     "output_type": "stream",
     "text": [
      "12\n"
     ]
    }
   ],
   "source": [
    "print(3*4)"
   ]
  },
  {
   "cell_type": "markdown",
   "id": "31493be7",
   "metadata": {},
   "source": [
    "### Jenis-jenis operator\n",
    "Matematika dan String"
   ]
  },
  {
   "cell_type": "markdown",
   "id": "26796cb0",
   "metadata": {},
   "source": [
    "#### Tambah (+)"
   ]
  },
  {
   "cell_type": "code",
   "execution_count": 3,
   "id": "36565f1f",
   "metadata": {},
   "outputs": [
    {
     "data": {
      "text/plain": [
       "11"
      ]
     },
     "execution_count": 3,
     "metadata": {},
     "output_type": "execute_result"
    }
   ],
   "source": [
    "5+6"
   ]
  },
  {
   "cell_type": "code",
   "execution_count": 4,
   "id": "0143c158",
   "metadata": {},
   "outputs": [
    {
     "data": {
      "text/plain": [
       "'data'"
      ]
     },
     "execution_count": 4,
     "metadata": {},
     "output_type": "execute_result"
    }
   ],
   "source": [
    "'da' + 'ta'"
   ]
  },
  {
   "cell_type": "markdown",
   "id": "5180dc02",
   "metadata": {},
   "source": [
    "#### Kurang (-)"
   ]
  },
  {
   "cell_type": "code",
   "execution_count": 5,
   "id": "06164e8e",
   "metadata": {},
   "outputs": [
    {
     "data": {
      "text/plain": [
       "5"
      ]
     },
     "execution_count": 5,
     "metadata": {},
     "output_type": "execute_result"
    }
   ],
   "source": [
    "8-3"
   ]
  },
  {
   "cell_type": "markdown",
   "id": "5dc36c92",
   "metadata": {},
   "source": [
    "Tidak berlaku untuk string, akan menghasilkan error unsupported operand"
   ]
  },
  {
   "cell_type": "code",
   "execution_count": 6,
   "id": "59e49976",
   "metadata": {},
   "outputs": [
    {
     "ename": "TypeError",
     "evalue": "unsupported operand type(s) for -: 'str' and 'str'",
     "output_type": "error",
     "traceback": [
      "\u001b[1;31m---------------------------------------------------------------------------\u001b[0m",
      "\u001b[1;31mTypeError\u001b[0m                                 Traceback (most recent call last)",
      "\u001b[1;32m<ipython-input-6-99cc3602b806>\u001b[0m in \u001b[0;36m<module>\u001b[1;34m\u001b[0m\n\u001b[1;32m----> 1\u001b[1;33m \u001b[1;34m'data'\u001b[0m \u001b[1;33m-\u001b[0m \u001b[1;34m'ta'\u001b[0m\u001b[1;33m\u001b[0m\u001b[1;33m\u001b[0m\u001b[0m\n\u001b[0m",
      "\u001b[1;31mTypeError\u001b[0m: unsupported operand type(s) for -: 'str' and 'str'"
     ]
    }
   ],
   "source": [
    "'data' - 'ta'"
   ]
  },
  {
   "cell_type": "markdown",
   "id": "02fe22bc",
   "metadata": {},
   "source": [
    "#### Perkalian (.)"
   ]
  },
  {
   "cell_type": "code",
   "execution_count": 8,
   "id": "405a2068",
   "metadata": {},
   "outputs": [
    {
     "data": {
      "text/plain": [
       "20"
      ]
     },
     "execution_count": 8,
     "metadata": {},
     "output_type": "execute_result"
    }
   ],
   "source": [
    "4*5"
   ]
  },
  {
   "cell_type": "markdown",
   "id": "a123aac4",
   "metadata": {},
   "source": [
    "Mengemballikan string yang diulang sejumlah tertentu"
   ]
  },
  {
   "cell_type": "code",
   "execution_count": 10,
   "id": "d350dc2e",
   "metadata": {},
   "outputs": [
    {
     "data": {
      "text/plain": [
       "'CieCieCie'"
      ]
     },
     "execution_count": 10,
     "metadata": {},
     "output_type": "execute_result"
    }
   ],
   "source": [
    "'Cie'*3"
   ]
  },
  {
   "cell_type": "markdown",
   "id": "fa52a908",
   "metadata": {},
   "source": [
    "Task"
   ]
  },
  {
   "cell_type": "code",
   "execution_count": 17,
   "id": "72b68974",
   "metadata": {},
   "outputs": [
    {
     "data": {
      "text/plain": [
       "44"
      ]
     },
     "execution_count": 17,
     "metadata": {},
     "output_type": "execute_result"
    }
   ],
   "source": [
    "10*2+4*6"
   ]
  },
  {
   "cell_type": "code",
   "execution_count": 19,
   "id": "61ef13d9",
   "metadata": {},
   "outputs": [
    {
     "data": {
      "text/plain": [
       "'wortel'"
      ]
     },
     "execution_count": 19,
     "metadata": {},
     "output_type": "execute_result"
    }
   ],
   "source": [
    "'wor'+'tel'"
   ]
  },
  {
   "cell_type": "code",
   "execution_count": 20,
   "id": "481a6e7f",
   "metadata": {},
   "outputs": [
    {
     "data": {
      "text/plain": [
       "20"
      ]
     },
     "execution_count": 20,
     "metadata": {},
     "output_type": "execute_result"
    }
   ],
   "source": [
    "2022-2002"
   ]
  },
  {
   "cell_type": "code",
   "execution_count": 21,
   "id": "c34a3c92",
   "metadata": {},
   "outputs": [
    {
     "data": {
      "text/plain": [
       "'wkwkwkwkwkwkwkwkwkwk'"
      ]
     },
     "execution_count": 21,
     "metadata": {},
     "output_type": "execute_result"
    }
   ],
   "source": [
    "'wk'*10"
   ]
  },
  {
   "cell_type": "code",
   "execution_count": 12,
   "id": "69c9cd39",
   "metadata": {},
   "outputs": [],
   "source": [
    "numeric = [1,2,3]\n",
    "string = ['DA','DS','DE']"
   ]
  },
  {
   "cell_type": "code",
   "execution_count": 14,
   "id": "b7448336",
   "metadata": {},
   "outputs": [
    {
     "data": {
      "text/plain": [
       "[1, 2, 3, 1, 2, 3, 1, 2, 3]"
      ]
     },
     "execution_count": 14,
     "metadata": {},
     "output_type": "execute_result"
    }
   ],
   "source": [
    "numeric*3"
   ]
  },
  {
   "cell_type": "code",
   "execution_count": 15,
   "id": "2a4adcba",
   "metadata": {},
   "outputs": [
    {
     "data": {
      "text/plain": [
       "['DA', 'DS', 'DE', 'DA', 'DS', 'DE', 'DA', 'DS', 'DE']"
      ]
     },
     "execution_count": 15,
     "metadata": {},
     "output_type": "execute_result"
    }
   ],
   "source": [
    "string*3"
   ]
  },
  {
   "cell_type": "markdown",
   "id": "69f82a2f",
   "metadata": {},
   "source": [
    "#### Pangkat (**)"
   ]
  },
  {
   "cell_type": "code",
   "execution_count": 24,
   "id": "aaa323f2",
   "metadata": {},
   "outputs": [
    {
     "data": {
      "text/plain": [
       "8"
      ]
     },
     "execution_count": 24,
     "metadata": {},
     "output_type": "execute_result"
    }
   ],
   "source": [
    "2**3"
   ]
  },
  {
   "cell_type": "markdown",
   "id": "d0ef15ad",
   "metadata": {},
   "source": [
    "Untuk akar dua, gunakan pangkat 0.5"
   ]
  },
  {
   "cell_type": "code",
   "execution_count": 30,
   "id": "317a40d9",
   "metadata": {},
   "outputs": [
    {
     "data": {
      "text/plain": [
       "3.0"
      ]
     },
     "execution_count": 30,
     "metadata": {},
     "output_type": "execute_result"
    }
   ],
   "source": [
    "9**0.5"
   ]
  },
  {
   "cell_type": "markdown",
   "id": "f64cba70",
   "metadata": {},
   "source": [
    "#### Pembagian (/)\n",
    "\n",
    "Mengembalikan hasil pembagian operand pertama dengan kedua (float)"
   ]
  },
  {
   "cell_type": "code",
   "execution_count": 34,
   "id": "fb963840",
   "metadata": {},
   "outputs": [
    {
     "data": {
      "text/plain": [
       "2.0"
      ]
     },
     "execution_count": 34,
     "metadata": {},
     "output_type": "execute_result"
    }
   ],
   "source": [
    "6/3"
   ]
  },
  {
   "cell_type": "code",
   "execution_count": 36,
   "id": "05aa40c2",
   "metadata": {},
   "outputs": [
    {
     "data": {
      "text/plain": [
       "3.142857142857143"
      ]
     },
     "execution_count": 36,
     "metadata": {},
     "output_type": "execute_result"
    }
   ],
   "source": [
    "22/7"
   ]
  },
  {
   "cell_type": "markdown",
   "id": "2cfcc58c",
   "metadata": {},
   "source": [
    "#### Pembagian habis bagi/Division (//)\n",
    "\n",
    "- Mengembalikan hasil pembagian operand pertama dengan kedua (bilangan bulat)\n",
    "- Kecuali jika salah satu operand adalah float, akan menghasilkan float"
   ]
  },
  {
   "cell_type": "code",
   "execution_count": 40,
   "id": "53693d1b",
   "metadata": {},
   "outputs": [
    {
     "data": {
      "text/plain": [
       "3"
      ]
     },
     "execution_count": 40,
     "metadata": {},
     "output_type": "execute_result"
    }
   ],
   "source": [
    "7//2"
   ]
  },
  {
   "cell_type": "code",
   "execution_count": 41,
   "id": "0d1614e3",
   "metadata": {},
   "outputs": [
    {
     "data": {
      "text/plain": [
       "2.0"
      ]
     },
     "execution_count": 41,
     "metadata": {},
     "output_type": "execute_result"
    }
   ],
   "source": [
    "4//1.5"
   ]
  },
  {
   "cell_type": "markdown",
   "id": "4e69a9b8",
   "metadata": {},
   "source": [
    "#### Modulo (%)\n",
    "\n",
    "Mengembalikan sisa bagi"
   ]
  },
  {
   "cell_type": "code",
   "execution_count": 38,
   "id": "b4e44d9c",
   "metadata": {},
   "outputs": [
    {
     "data": {
      "text/plain": [
       "1"
      ]
     },
     "execution_count": 38,
     "metadata": {},
     "output_type": "execute_result"
    }
   ],
   "source": [
    "7%2"
   ]
  },
  {
   "cell_type": "code",
   "execution_count": 39,
   "id": "87e0021c",
   "metadata": {},
   "outputs": [
    {
     "data": {
      "text/plain": [
       "1.0"
      ]
     },
     "execution_count": 39,
     "metadata": {},
     "output_type": "execute_result"
    }
   ],
   "source": [
    "4%1.5"
   ]
  },
  {
   "cell_type": "markdown",
   "id": "43b144a7",
   "metadata": {},
   "source": [
    "Task"
   ]
  },
  {
   "cell_type": "code",
   "execution_count": 47,
   "id": "d98ec558",
   "metadata": {},
   "outputs": [
    {
     "data": {
      "text/plain": [
       "30"
      ]
     },
     "execution_count": 47,
     "metadata": {},
     "output_type": "execute_result"
    }
   ],
   "source": [
    "10*3"
   ]
  },
  {
   "cell_type": "code",
   "execution_count": 48,
   "id": "f8aabf94",
   "metadata": {},
   "outputs": [
    {
     "data": {
      "text/plain": [
       "1000"
      ]
     },
     "execution_count": 48,
     "metadata": {},
     "output_type": "execute_result"
    }
   ],
   "source": [
    "10**3"
   ]
  },
  {
   "cell_type": "code",
   "execution_count": 49,
   "id": "8998411a",
   "metadata": {},
   "outputs": [
    {
     "data": {
      "text/plain": [
       "3.3333333333333335"
      ]
     },
     "execution_count": 49,
     "metadata": {},
     "output_type": "execute_result"
    }
   ],
   "source": [
    "10/3"
   ]
  },
  {
   "cell_type": "code",
   "execution_count": 50,
   "id": "5f22c9e6",
   "metadata": {},
   "outputs": [
    {
     "data": {
      "text/plain": [
       "3"
      ]
     },
     "execution_count": 50,
     "metadata": {},
     "output_type": "execute_result"
    }
   ],
   "source": [
    "10//3"
   ]
  },
  {
   "cell_type": "code",
   "execution_count": 51,
   "id": "bd2ccd09",
   "metadata": {},
   "outputs": [
    {
     "data": {
      "text/plain": [
       "2"
      ]
     },
     "execution_count": 51,
     "metadata": {},
     "output_type": "execute_result"
    }
   ],
   "source": [
    "10&3"
   ]
  },
  {
   "cell_type": "markdown",
   "id": "13d052b6",
   "metadata": {},
   "source": [
    "### Perbandingan"
   ]
  },
  {
   "cell_type": "markdown",
   "id": "50e0a53e",
   "metadata": {},
   "source": [
    "#### Less than (<)\n",
    "\n",
    "- Menjalankan apakah operand pertama lebih kecil dari operand kedua\n",
    "- Mengembalikan nilai boolean True atau False"
   ]
  },
  {
   "cell_type": "code",
   "execution_count": 52,
   "id": "9baa5447",
   "metadata": {},
   "outputs": [
    {
     "data": {
      "text/plain": [
       "True"
      ]
     },
     "execution_count": 52,
     "metadata": {},
     "output_type": "execute_result"
    }
   ],
   "source": [
    "1<2"
   ]
  },
  {
   "cell_type": "markdown",
   "id": "4331cb58",
   "metadata": {},
   "source": [
    "Perbandingan dapat berisi lebih dari 2 operand"
   ]
  },
  {
   "cell_type": "code",
   "execution_count": 53,
   "id": "71f2195f",
   "metadata": {},
   "outputs": [
    {
     "data": {
      "text/plain": [
       "True"
      ]
     },
     "execution_count": 53,
     "metadata": {},
     "output_type": "execute_result"
    }
   ],
   "source": [
    "1<2<3"
   ]
  },
  {
   "cell_type": "markdown",
   "id": "a9fb0a64",
   "metadata": {},
   "source": [
    "#### Greater than\n",
    "\n",
    "- Menjalankan apakah operand pertama lebih besar dari operand kedua\n",
    "- Mengembalikan nilai boolean True atau False"
   ]
  },
  {
   "cell_type": "code",
   "execution_count": 54,
   "id": "158f91b7",
   "metadata": {},
   "outputs": [
    {
     "data": {
      "text/plain": [
       "True"
      ]
     },
     "execution_count": 54,
     "metadata": {},
     "output_type": "execute_result"
    }
   ],
   "source": [
    "2>1"
   ]
  },
  {
   "cell_type": "code",
   "execution_count": 55,
   "id": "58cb8659",
   "metadata": {},
   "outputs": [
    {
     "data": {
      "text/plain": [
       "True"
      ]
     },
     "execution_count": 55,
     "metadata": {},
     "output_type": "execute_result"
    }
   ],
   "source": [
    "3>2>1"
   ]
  },
  {
   "cell_type": "markdown",
   "id": "3e1261b7",
   "metadata": {},
   "source": [
    "#### Less than or equal to (<=)\n",
    "\n",
    "- Menjalankan perbandingan apakah operand pertama lebih kecil atau sama dengan operand kedua\n",
    "- Mengembalikan nilai boolean True atau False"
   ]
  },
  {
   "cell_type": "code",
   "execution_count": 56,
   "id": "10661eff",
   "metadata": {},
   "outputs": [
    {
     "data": {
      "text/plain": [
       "True"
      ]
     },
     "execution_count": 56,
     "metadata": {},
     "output_type": "execute_result"
    }
   ],
   "source": [
    "x = 1\n",
    "y = 2\n",
    "x <= y"
   ]
  },
  {
   "cell_type": "markdown",
   "id": "78c1257a",
   "metadata": {},
   "source": [
    "#### Greater than or equal to (<=)\n",
    "\n",
    "- Menjalankan perbandingan apakah operand pertama lebih besar atau sama dengan operand kedua\n",
    "- Mengembalikan nilai boolean True atau False"
   ]
  },
  {
   "cell_type": "code",
   "execution_count": 57,
   "id": "4630779a",
   "metadata": {},
   "outputs": [
    {
     "data": {
      "text/plain": [
       "False"
      ]
     },
     "execution_count": 57,
     "metadata": {},
     "output_type": "execute_result"
    }
   ],
   "source": [
    "x = 1\n",
    "y = 2\n",
    "x >= y"
   ]
  },
  {
   "cell_type": "markdown",
   "id": "fe14596f",
   "metadata": {},
   "source": [
    "#### Equal to (==)\n",
    "\n",
    "- Menjalankan perbandingan apakah operand pertama sama dengan operand kedua\n",
    "- Mengembalikan nilai boolean True atau False"
   ]
  },
  {
   "cell_type": "code",
   "execution_count": 58,
   "id": "d4cd15aa",
   "metadata": {},
   "outputs": [
    {
     "data": {
      "text/plain": [
       "False"
      ]
     },
     "execution_count": 58,
     "metadata": {},
     "output_type": "execute_result"
    }
   ],
   "source": [
    "x = 1\n",
    "y = 2\n",
    "x == y"
   ]
  },
  {
   "cell_type": "code",
   "execution_count": 65,
   "id": "2a3df557",
   "metadata": {},
   "outputs": [
    {
     "data": {
      "text/plain": [
       "False"
      ]
     },
     "execution_count": 65,
     "metadata": {},
     "output_type": "execute_result"
    }
   ],
   "source": [
    "a = 'aku'\n",
    "b = 'aKu'\n",
    "a == b"
   ]
  },
  {
   "cell_type": "markdown",
   "id": "e49ae660",
   "metadata": {},
   "source": [
    "Task"
   ]
  },
  {
   "cell_type": "code",
   "execution_count": 68,
   "id": "824e22f1",
   "metadata": {},
   "outputs": [
    {
     "name": "stdout",
     "output_type": "stream",
     "text": [
      "True\n",
      "False\n",
      "True\n",
      "False\n",
      "True\n"
     ]
    }
   ],
   "source": [
    "p = 7\n",
    "q = 9\n",
    "r = 10\n",
    "\n",
    "print(p<q)\n",
    "print(p>q)\n",
    "print(q<r)\n",
    "print(q>r)\n",
    "print(p<q<r)"
   ]
  },
  {
   "cell_type": "code",
   "execution_count": 72,
   "id": "49fea7cd",
   "metadata": {},
   "outputs": [
    {
     "name": "stdout",
     "output_type": "stream",
     "text": [
      "True\n",
      "True\n",
      "True\n",
      "True\n",
      "True\n"
     ]
    }
   ],
   "source": [
    "m = 1\n",
    "n = 1\n",
    "o = 2\n",
    "\n",
    "print(m<=n)\n",
    "print(m>=n)\n",
    "print(n<=o)\n",
    "print(n<=o)\n",
    "print(m<=n<o)"
   ]
  },
  {
   "cell_type": "code",
   "execution_count": 73,
   "id": "9a0b2cf0",
   "metadata": {},
   "outputs": [
    {
     "name": "stdout",
     "output_type": "stream",
     "text": [
      "False\n",
      "True\n"
     ]
    }
   ],
   "source": [
    "nama1 = 'Ando'\n",
    "nama2 = 'ando'\n",
    "nama3 = 'ando'\n",
    "\n",
    "print(nama1 == nama2)\n",
    "print(nama2 == nama3)"
   ]
  },
  {
   "cell_type": "markdown",
   "id": "4edd72fc",
   "metadata": {},
   "source": [
    "#### Not equal to (!=)\n",
    "\n",
    "- Menjalankan perbandingan apakah operand pertama tidak sama dengan operand kedua\n",
    "- Mengembalikan nilai boolean True atau False"
   ]
  },
  {
   "cell_type": "code",
   "execution_count": 64,
   "id": "cd85c276",
   "metadata": {},
   "outputs": [
    {
     "data": {
      "text/plain": [
       "True"
      ]
     },
     "execution_count": 64,
     "metadata": {},
     "output_type": "execute_result"
    }
   ],
   "source": [
    "a = 'aku'\n",
    "b = 'aKu'\n",
    "a != b"
   ]
  },
  {
   "cell_type": "markdown",
   "id": "104f103d",
   "metadata": {},
   "source": [
    "Task"
   ]
  },
  {
   "cell_type": "markdown",
   "id": "73c239ab",
   "metadata": {},
   "source": [
    "#### Boolean Operator"
   ]
  },
  {
   "cell_type": "markdown",
   "id": "2749ec40",
   "metadata": {},
   "source": [
    "#### Not (boolean NOT)\n",
    "\n",
    "- Jika x bernilai True, fungsi akan mengembalikan nilai False\n",
    "- Jika x bernilai False, fungsi akan mengembalikan nilai True"
   ]
  },
  {
   "cell_type": "code",
   "execution_count": 62,
   "id": "53a1f180",
   "metadata": {},
   "outputs": [],
   "source": [
    "x = True"
   ]
  },
  {
   "cell_type": "code",
   "execution_count": 63,
   "id": "94d5ccc6",
   "metadata": {},
   "outputs": [
    {
     "data": {
      "text/plain": [
       "False"
      ]
     },
     "execution_count": 63,
     "metadata": {},
     "output_type": "execute_result"
    }
   ],
   "source": [
    "not x"
   ]
  },
  {
   "cell_type": "markdown",
   "id": "81ac9b6f",
   "metadata": {},
   "source": [
    "#### And (boolean AND)\n",
    "\n",
    "x AND y, jika bernilai False, fungsi akan mengembalikan nilai False, atau fungsi akan mengembalikan nilai dari y"
   ]
  },
  {
   "cell_type": "code",
   "execution_count": 77,
   "id": "37893a8e",
   "metadata": {},
   "outputs": [
    {
     "data": {
      "text/plain": [
       "True"
      ]
     },
     "execution_count": 77,
     "metadata": {},
     "output_type": "execute_result"
    }
   ],
   "source": [
    "x = True\n",
    "y = True\n",
    "\n",
    "x and y"
   ]
  },
  {
   "cell_type": "code",
   "execution_count": 78,
   "id": "4bd92c54",
   "metadata": {},
   "outputs": [
    {
     "data": {
      "text/plain": [
       "False"
      ]
     },
     "execution_count": 78,
     "metadata": {},
     "output_type": "execute_result"
    }
   ],
   "source": [
    "x = True\n",
    "y = False\n",
    "\n",
    "x and y"
   ]
  },
  {
   "cell_type": "code",
   "execution_count": 80,
   "id": "9507cb7c",
   "metadata": {},
   "outputs": [
    {
     "data": {
      "text/plain": [
       "False"
      ]
     },
     "execution_count": 80,
     "metadata": {},
     "output_type": "execute_result"
    }
   ],
   "source": [
    "x = False\n",
    "y = False\n",
    "\n",
    "x and y"
   ]
  },
  {
   "cell_type": "code",
   "execution_count": 81,
   "id": "25ebccfb",
   "metadata": {},
   "outputs": [
    {
     "data": {
      "text/plain": [
       "False"
      ]
     },
     "execution_count": 81,
     "metadata": {},
     "output_type": "execute_result"
    }
   ],
   "source": [
    "x = False\n",
    "y = True \n",
    "\n",
    "x and y"
   ]
  },
  {
   "cell_type": "markdown",
   "id": "e1010a07",
   "metadata": {},
   "source": [
    "#### Or (boolean OR)\n",
    "\n",
    "x OR y, jika bernilai True, fungsi akan mengembalikan nilai True, atau fungsi akan mengembalikan nilai dari y\n",
    "\n",
    "Dalam kasus ini, Python juga menggunakan short-circuit evaluation karena apapun nilai y tidak akan mempengaruhi hasil"
   ]
  },
  {
   "cell_type": "code",
   "execution_count": 82,
   "id": "03252f63",
   "metadata": {},
   "outputs": [
    {
     "data": {
      "text/plain": [
       "True"
      ]
     },
     "execution_count": 82,
     "metadata": {},
     "output_type": "execute_result"
    }
   ],
   "source": [
    "x = True\n",
    "y = True\n",
    "\n",
    "x or y"
   ]
  },
  {
   "cell_type": "code",
   "execution_count": 83,
   "id": "c31f3727",
   "metadata": {},
   "outputs": [
    {
     "data": {
      "text/plain": [
       "True"
      ]
     },
     "execution_count": 83,
     "metadata": {},
     "output_type": "execute_result"
    }
   ],
   "source": [
    "x = True\n",
    "y = False\n",
    "\n",
    "x or y"
   ]
  },
  {
   "cell_type": "code",
   "execution_count": 85,
   "id": "5c43f044",
   "metadata": {},
   "outputs": [
    {
     "data": {
      "text/plain": [
       "False"
      ]
     },
     "execution_count": 85,
     "metadata": {},
     "output_type": "execute_result"
    }
   ],
   "source": [
    "x = False\n",
    "y = False\n",
    "\n",
    "x or y"
   ]
  },
  {
   "cell_type": "code",
   "execution_count": 86,
   "id": "c15abeb7",
   "metadata": {},
   "outputs": [
    {
     "data": {
      "text/plain": [
       "True"
      ]
     },
     "execution_count": 86,
     "metadata": {},
     "output_type": "execute_result"
    }
   ],
   "source": [
    "x = False\n",
    "y = True \n",
    "\n",
    "x or y"
   ]
  },
  {
   "cell_type": "markdown",
   "id": "5c97d930",
   "metadata": {},
   "source": [
    "Task"
   ]
  },
  {
   "cell_type": "code",
   "execution_count": 1,
   "id": "be4425f7",
   "metadata": {},
   "outputs": [
    {
     "data": {
      "text/plain": [
       "True"
      ]
     },
     "execution_count": 1,
     "metadata": {},
     "output_type": "execute_result"
    }
   ],
   "source": [
    "#AND\n",
    "\n",
    "ibadah = True\n",
    "belajar = True\n",
    "\n",
    "ibadah and belajar"
   ]
  },
  {
   "cell_type": "code",
   "execution_count": 2,
   "id": "1ecae052",
   "metadata": {},
   "outputs": [
    {
     "data": {
      "text/plain": [
       "False"
      ]
     },
     "execution_count": 2,
     "metadata": {},
     "output_type": "execute_result"
    }
   ],
   "source": [
    "ibadah = True\n",
    "belajar = False\n",
    "\n",
    "ibadah and belajar"
   ]
  },
  {
   "cell_type": "code",
   "execution_count": 3,
   "id": "04b40d85",
   "metadata": {},
   "outputs": [
    {
     "data": {
      "text/plain": [
       "False"
      ]
     },
     "execution_count": 3,
     "metadata": {},
     "output_type": "execute_result"
    }
   ],
   "source": [
    "ibadah = False\n",
    "belajar = False\n",
    "\n",
    "ibadah and belajar"
   ]
  },
  {
   "cell_type": "code",
   "execution_count": 4,
   "id": "cd82359f",
   "metadata": {},
   "outputs": [
    {
     "data": {
      "text/plain": [
       "False"
      ]
     },
     "execution_count": 4,
     "metadata": {},
     "output_type": "execute_result"
    }
   ],
   "source": [
    "ibadah = False\n",
    "belajar = True\n",
    "\n",
    "ibadah and belajar"
   ]
  },
  {
   "cell_type": "code",
   "execution_count": 5,
   "id": "c0f082b2",
   "metadata": {},
   "outputs": [
    {
     "data": {
      "text/plain": [
       "True"
      ]
     },
     "execution_count": 5,
     "metadata": {},
     "output_type": "execute_result"
    }
   ],
   "source": [
    "#OR\n",
    "\n",
    "ibadah = True\n",
    "belajar = True\n",
    "\n",
    "ibadah or belajar"
   ]
  },
  {
   "cell_type": "code",
   "execution_count": 8,
   "id": "1c19f5d4",
   "metadata": {},
   "outputs": [
    {
     "data": {
      "text/plain": [
       "True"
      ]
     },
     "execution_count": 8,
     "metadata": {},
     "output_type": "execute_result"
    }
   ],
   "source": [
    "ibadah = True\n",
    "belajar = False\n",
    "\n",
    "ibadah or belajar"
   ]
  },
  {
   "cell_type": "code",
   "execution_count": 9,
   "id": "d3ec2ff0",
   "metadata": {},
   "outputs": [
    {
     "data": {
      "text/plain": [
       "False"
      ]
     },
     "execution_count": 9,
     "metadata": {},
     "output_type": "execute_result"
    }
   ],
   "source": [
    "ibadah = False\n",
    "belajar = False\n",
    "\n",
    "ibadah or belajar"
   ]
  },
  {
   "cell_type": "code",
   "execution_count": 10,
   "id": "c522985d",
   "metadata": {},
   "outputs": [
    {
     "data": {
      "text/plain": [
       "True"
      ]
     },
     "execution_count": 10,
     "metadata": {},
     "output_type": "execute_result"
    }
   ],
   "source": [
    "ibadah = False\n",
    "belajar = True\n",
    "\n",
    "ibadah or belajar"
   ]
  },
  {
   "cell_type": "markdown",
   "id": "9d732b7f",
   "metadata": {},
   "source": [
    "#### Cara singkat menuliskan operasi\n",
    "\n",
    "Jika Anda melakukan assignment kembali hasil sebuah expression, beberapa di antaranya bisa disingkat"
   ]
  },
  {
   "cell_type": "code",
   "execution_count": 18,
   "id": "3b767df6",
   "metadata": {},
   "outputs": [
    {
     "data": {
      "text/plain": [
       "6"
      ]
     },
     "execution_count": 18,
     "metadata": {},
     "output_type": "execute_result"
    }
   ],
   "source": [
    "a = 2\n",
    "a = a*3\n",
    "a"
   ]
  },
  {
   "cell_type": "code",
   "execution_count": 19,
   "id": "aa8627c6",
   "metadata": {},
   "outputs": [
    {
     "data": {
      "text/plain": [
       "6"
      ]
     },
     "execution_count": 19,
     "metadata": {},
     "output_type": "execute_result"
    }
   ],
   "source": [
    "a = 2\n",
    "a *= 3\n",
    "a"
   ]
  },
  {
   "cell_type": "code",
   "execution_count": 20,
   "id": "33c77df5",
   "metadata": {},
   "outputs": [
    {
     "data": {
      "text/plain": [
       "5"
      ]
     },
     "execution_count": 20,
     "metadata": {},
     "output_type": "execute_result"
    }
   ],
   "source": [
    "a = 2\n",
    "a = a+3\n",
    "a"
   ]
  },
  {
   "cell_type": "code",
   "execution_count": 22,
   "id": "3803a41a",
   "metadata": {},
   "outputs": [
    {
     "data": {
      "text/plain": [
       "5"
      ]
     },
     "execution_count": 22,
     "metadata": {},
     "output_type": "execute_result"
    }
   ],
   "source": [
    "a = 2\n",
    "a += 3\n",
    "a"
   ]
  },
  {
   "cell_type": "markdown",
   "id": "0c56f335",
   "metadata": {},
   "source": [
    "#### Urutan matematis dalam melakukan evaluasi\n",
    "\n",
    "question: 1 + 2 * 3\n",
    "Tip: gunakan kurung untuk memudahkan keterbacaan dan memastikan urutan secara tepat."
   ]
  },
  {
   "cell_type": "code",
   "execution_count": 11,
   "id": "1c963421",
   "metadata": {},
   "outputs": [
    {
     "data": {
      "text/plain": [
       "7"
      ]
     },
     "execution_count": 11,
     "metadata": {},
     "output_type": "execute_result"
    }
   ],
   "source": [
    "1 + 2 * 3"
   ]
  },
  {
   "cell_type": "code",
   "execution_count": 12,
   "id": "92efee46",
   "metadata": {},
   "outputs": [
    {
     "data": {
      "text/plain": [
       "7"
      ]
     },
     "execution_count": 12,
     "metadata": {},
     "output_type": "execute_result"
    }
   ],
   "source": [
    "1 + (2 * 3)"
   ]
  },
  {
   "cell_type": "markdown",
   "id": "2efa8b2b",
   "metadata": {},
   "source": [
    "Task"
   ]
  },
  {
   "cell_type": "code",
   "execution_count": 23,
   "id": "509344ab",
   "metadata": {},
   "outputs": [
    {
     "data": {
      "text/plain": [
       "15"
      ]
     },
     "execution_count": 23,
     "metadata": {},
     "output_type": "execute_result"
    }
   ],
   "source": [
    "b = 5\n",
    "b = b+10\n",
    "b"
   ]
  },
  {
   "cell_type": "code",
   "execution_count": 24,
   "id": "81d6d084",
   "metadata": {},
   "outputs": [
    {
     "data": {
      "text/plain": [
       "15"
      ]
     },
     "execution_count": 24,
     "metadata": {},
     "output_type": "execute_result"
    }
   ],
   "source": [
    "b = 5\n",
    "b += 10\n",
    "b"
   ]
  },
  {
   "cell_type": "code",
   "execution_count": 25,
   "id": "91a183ff",
   "metadata": {},
   "outputs": [
    {
     "data": {
      "text/plain": [
       "30"
      ]
     },
     "execution_count": 25,
     "metadata": {},
     "output_type": "execute_result"
    }
   ],
   "source": [
    "c = 10\n",
    "c = c*3\n",
    "c"
   ]
  },
  {
   "cell_type": "code",
   "execution_count": 26,
   "id": "7e232648",
   "metadata": {},
   "outputs": [
    {
     "data": {
      "text/plain": [
       "30"
      ]
     },
     "execution_count": 26,
     "metadata": {},
     "output_type": "execute_result"
    }
   ],
   "source": [
    "c = 10\n",
    "c *= 3\n",
    "c"
   ]
  },
  {
   "cell_type": "code",
   "execution_count": 28,
   "id": "4fa74fd7",
   "metadata": {},
   "outputs": [
    {
     "data": {
      "text/plain": [
       "70.0"
      ]
     },
     "execution_count": 28,
     "metadata": {},
     "output_type": "execute_result"
    }
   ],
   "source": [
    "5 + 10 * 7 - 15 / 3"
   ]
  },
  {
   "cell_type": "code",
   "execution_count": 29,
   "id": "114f6836",
   "metadata": {},
   "outputs": [
    {
     "data": {
      "text/plain": [
       "70.0"
      ]
     },
     "execution_count": 29,
     "metadata": {},
     "output_type": "execute_result"
    }
   ],
   "source": [
    "5 + (10 * 7) - (15 / 3)"
   ]
  },
  {
   "cell_type": "code",
   "execution_count": null,
   "id": "98087ae7",
   "metadata": {},
   "outputs": [],
   "source": []
  }
 ],
 "metadata": {
  "kernelspec": {
   "display_name": "Python 3",
   "language": "python",
   "name": "python3"
  },
  "language_info": {
   "codemirror_mode": {
    "name": "ipython",
    "version": 3
   },
   "file_extension": ".py",
   "mimetype": "text/x-python",
   "name": "python",
   "nbconvert_exporter": "python",
   "pygments_lexer": "ipython3",
   "version": "3.8.8"
  }
 },
 "nbformat": 4,
 "nbformat_minor": 5
}
